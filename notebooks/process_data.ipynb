{
 "cells": [
  {
   "cell_type": "markdown",
   "metadata": {},
   "source": [
    "# Import Required Libraries\n",
    "Import the necessary libraries."
   ]
  },
  {
   "cell_type": "code",
   "execution_count": 141,
   "metadata": {},
   "outputs": [],
   "source": [
    "# Import necessary libraries\n",
    "import pandas as pd\n",
    "from sklearn.preprocessing import LabelEncoder"
   ]
  },
  {
   "cell_type": "markdown",
   "metadata": {},
   "source": [
    "# Load Data\n",
    "Load the train and test data from the data directory"
   ]
  },
  {
   "cell_type": "code",
   "execution_count": 142,
   "metadata": {},
   "outputs": [],
   "source": [
    "data_dir = '../data/'\n",
    "train = pd.read_csv(data_dir + 'train.csv')\n",
    "test = pd.read_csv(data_dir + 'test.csv')"
   ]
  },
  {
   "cell_type": "markdown",
   "metadata": {},
   "source": [
    "# Define Columns\n",
    "Define the numerical, quantized, text, and categorical columns."
   ]
  },
  {
   "cell_type": "code",
   "execution_count": 143,
   "metadata": {},
   "outputs": [],
   "source": [
    "# Define numerical columns\n",
    "numerical_columns = [\"Age\", \"Work/Study Hours\"]\n",
    "\n",
    "# Define quantized columns\n",
    "quantized_columns = [\"CGPA\"]\n",
    "\n",
    "# Define text columns\n",
    "text_columns = [\n",
    "    \"Name\",\n",
    "    \"City\",\n",
    "    \"Profession\",\n",
    "    \"Sleep Duration\",\n",
    "    \"Degree\",\n",
    "    \"Dietary Habits\",\n",
    "]\n",
    "\n",
    "# Define categorical columns and include text columns\n",
    "categorical_columns = [\n",
    "    \"Gender\",\n",
    "    \"Working Professional or Student\",\n",
    "    \"Have you ever had suicidal thoughts ?\",\n",
    "    \"Financial Stress\",\n",
    "    \"Family History of Mental Illness\",\n",
    "    \"Academic Pressure\",\n",
    "    \"Work Pressure\",\n",
    "    \"Study Satisfaction\",\n",
    "    \"Job Satisfaction\",\n",
    "] + text_columns"
   ]
  },
  {
   "cell_type": "markdown",
   "metadata": {},
   "source": [
    "# Clean Data\n",
    "Drop duplicate rows, fill nan's"
   ]
  },
  {
   "cell_type": "code",
   "execution_count": 144,
   "metadata": {},
   "outputs": [],
   "source": [
    "# Create copies of the train and test DataFrames for preprocessing\n",
    "train_prep = train.copy()\n",
    "test_prep = test.copy()"
   ]
  },
  {
   "cell_type": "markdown",
   "metadata": {},
   "source": [
    "Remove duplicates"
   ]
  },
  {
   "cell_type": "code",
   "execution_count": 145,
   "metadata": {},
   "outputs": [],
   "source": [
    "train = train.drop_duplicates()\n",
    "test = test.drop_duplicates()"
   ]
  },
  {
   "cell_type": "markdown",
   "metadata": {},
   "source": [
    "Drop unnescecary columns"
   ]
  },
  {
   "cell_type": "code",
   "execution_count": 146,
   "metadata": {},
   "outputs": [],
   "source": [
    "# Drop 'id' column if it exists\n",
    "if \"id\" in train_prep.columns:\n",
    "    train_prep = train_prep.drop(columns=\"id\")\n",
    "if \"id\" in test_prep.columns:\n",
    "    test_prep = test_prep.drop(columns=\"id\")"
   ]
  },
  {
   "cell_type": "markdown",
   "metadata": {},
   "source": [
    "Ensure that either Job Satisfaction or Study Satisfaction is filled."
   ]
  },
  {
   "cell_type": "code",
   "execution_count": 147,
   "metadata": {},
   "outputs": [],
   "source": [
    "# If at least one of them is filled, fill the other with zero.\n",
    "# If both are filled, do nothing.\n",
    "# If none are filled, fill both with zero.\n",
    "train_prep['Job Satisfaction'] = train_prep['Job Satisfaction'].fillna(0)\n",
    "train_prep['Study Satisfaction'] = train_prep['Study Satisfaction'].fillna(0)\n",
    "test_prep['Job Satisfaction'] = test_prep['Job Satisfaction'].fillna(0)\n",
    "test_prep['Study Satisfaction'] = test_prep['Study Satisfaction'].fillna(0)"
   ]
  },
  {
   "cell_type": "markdown",
   "metadata": {},
   "source": [
    "Ensure that either Job Satisfaction or Study Satisfaction is filled."
   ]
  },
  {
   "cell_type": "code",
   "execution_count": 148,
   "metadata": {},
   "outputs": [],
   "source": [
    "# If at least one of them is filled, fill the other with zero.\n",
    "# If both are filled, do nothing.\n",
    "# If none are filled, fill both with zero.\n",
    "train_prep['Academic Pressure'] = train_prep['Academic Pressure'].fillna(0)\n",
    "train_prep['Work Pressure'] = train_prep['Work Pressure'].fillna(0)\n",
    "test_prep['Academic Pressure'] = test_prep['Academic Pressure'].fillna(0)\n",
    "test_prep['Work Pressure'] = test_prep['Work Pressure'].fillna(0)"
   ]
  },
  {
   "cell_type": "markdown",
   "metadata": {},
   "source": [
    "Fill missing values in categorical columns with the mode or 'missing' if the mode is not available."
   ]
  },
  {
   "cell_type": "code",
   "execution_count": 149,
   "metadata": {},
   "outputs": [],
   "source": [
    "for col in categorical_columns:\n",
    "    # Fill missing values with mode or 'missing' if mode is not available\n",
    "    fill_value = train_prep[col].mode()[0] if not train_prep[col].mode().empty else \"missing\"\n",
    "    train_prep[col] = train_prep[col].fillna(fill_value)\n",
    "    test_prep[col] = test_prep[col].fillna(fill_value)\n"
   ]
  },
  {
   "cell_type": "markdown",
   "metadata": {},
   "source": [
    "Fill missing values in numerical columns with the median."
   ]
  },
  {
   "cell_type": "code",
   "execution_count": 150,
   "metadata": {},
   "outputs": [],
   "source": [
    "for col in numerical_columns + quantized_columns:\n",
    "    # Fill missing values with median\n",
    "    median_value = train_prep[col].median()\n",
    "    train_prep[col] = train_prep[col].fillna(median_value)\n",
    "    test_prep[col] = test_prep[col].fillna(median_value)"
   ]
  },
  {
   "cell_type": "markdown",
   "metadata": {},
   "source": [
    "Check that there are no missing values."
   ]
  },
  {
   "cell_type": "code",
   "execution_count": 151,
   "metadata": {},
   "outputs": [
    {
     "name": "stdout",
     "output_type": "stream",
     "text": [
      "Cleaning completed successfully\n"
     ]
    }
   ],
   "source": [
    "if train_prep.isnull().values.any():\n",
    "    print(\"Missing values in train data\")\n",
    "    print(train_prep.isnull().sum())\n",
    "    assert False\n",
    "\n",
    "if test_prep.isnull().values.any():\n",
    "    print(\"Missing values in test data\")\n",
    "    print(test_prep.isnull().sum())\n",
    "    assert False\n",
    "\n",
    "print(\"Cleaning completed successfully\")"
   ]
  },
  {
   "cell_type": "markdown",
   "metadata": {},
   "source": [
    "# Modify Features\n",
    "Create and modify features"
   ]
  },
  {
   "cell_type": "markdown",
   "metadata": {},
   "source": [
    "### [<span style=\"color:orange\">Original Feature</span>] Age:"
   ]
  },
  {
   "cell_type": "code",
   "execution_count": 152,
   "metadata": {},
   "outputs": [],
   "source": [
    "# Transform 'Age' to integer\n",
    "train_prep[\"Age\"] = train_prep[\"Age\"].astype(int)\n",
    "test_prep[\"Age\"] = test_prep[\"Age\"].astype(int)"
   ]
  },
  {
   "cell_type": "markdown",
   "metadata": {},
   "source": [
    "### [<span style=\"color:orange\">Original Feature</span>] CGPA:  \n",
    "\n",
    "**Description**: Quantize CGPA into bins. CGPA applies only to students -> Remove values from rows that are no students."
   ]
  },
  {
   "cell_type": "code",
   "execution_count": 157,
   "metadata": {},
   "outputs": [
    {
     "data": {
      "text/plain": [
       "Working Professional or Student\n",
       "None       112799\n",
       "Student     27901\n",
       "Name: count, dtype: int64"
      ]
     },
     "execution_count": 157,
     "metadata": {},
     "output_type": "execute_result"
    }
   ],
   "source": [
    "train_prep['Working Professional or Student'].value_counts()"
   ]
  },
  {
   "cell_type": "code",
   "execution_count": null,
   "metadata": {},
   "outputs": [
    {
     "name": "stderr",
     "output_type": "stream",
     "text": [
      "/tmp/ipykernel_75194/813017819.py:19: FutureWarning: Setting an item of incompatible dtype is deprecated and will raise an error in a future version of pandas. Value 'None' has dtype incompatible with int64, please explicitly cast to a compatible dtype first.\n",
      "  train_prep[train_prep[\"Working Professional or Student\"] != \"Student\"] = 'None'\n",
      "/tmp/ipykernel_75194/813017819.py:19: FutureWarning: Setting an item of incompatible dtype is deprecated and will raise an error in a future version of pandas. Value 'None' has dtype incompatible with float64, please explicitly cast to a compatible dtype first.\n",
      "  train_prep[train_prep[\"Working Professional or Student\"] != \"Student\"] = 'None'\n",
      "/tmp/ipykernel_75194/813017819.py:19: FutureWarning: Setting an item of incompatible dtype is deprecated and will raise an error in a future version of pandas. Value 'None' has dtype incompatible with float64, please explicitly cast to a compatible dtype first.\n",
      "  train_prep[train_prep[\"Working Professional or Student\"] != \"Student\"] = 'None'\n",
      "/tmp/ipykernel_75194/813017819.py:19: FutureWarning: Setting an item of incompatible dtype is deprecated and will raise an error in a future version of pandas. Value 'None' has dtype incompatible with float64, please explicitly cast to a compatible dtype first.\n",
      "  train_prep[train_prep[\"Working Professional or Student\"] != \"Student\"] = 'None'\n",
      "/tmp/ipykernel_75194/813017819.py:19: FutureWarning: Setting an item of incompatible dtype is deprecated and will raise an error in a future version of pandas. Value 'None' has dtype incompatible with float64, please explicitly cast to a compatible dtype first.\n",
      "  train_prep[train_prep[\"Working Professional or Student\"] != \"Student\"] = 'None'\n",
      "/tmp/ipykernel_75194/813017819.py:19: FutureWarning: Setting an item of incompatible dtype is deprecated and will raise an error in a future version of pandas. Value 'None' has dtype incompatible with float64, please explicitly cast to a compatible dtype first.\n",
      "  train_prep[train_prep[\"Working Professional or Student\"] != \"Student\"] = 'None'\n",
      "/tmp/ipykernel_75194/813017819.py:19: FutureWarning: Setting an item of incompatible dtype is deprecated and will raise an error in a future version of pandas. Value 'None' has dtype incompatible with float64, please explicitly cast to a compatible dtype first.\n",
      "  train_prep[train_prep[\"Working Professional or Student\"] != \"Student\"] = 'None'\n",
      "/tmp/ipykernel_75194/813017819.py:19: FutureWarning: Setting an item of incompatible dtype is deprecated and will raise an error in a future version of pandas. Value 'None' has dtype incompatible with int64, please explicitly cast to a compatible dtype first.\n",
      "  train_prep[train_prep[\"Working Professional or Student\"] != \"Student\"] = 'None'\n",
      "/tmp/ipykernel_75194/813017819.py:20: FutureWarning: Setting an item of incompatible dtype is deprecated and will raise an error in a future version of pandas. Value 'None' has dtype incompatible with int64, please explicitly cast to a compatible dtype first.\n",
      "  test_prep[test_prep[\"Working Professional or Student\"] != \"Student\"] = 'None'\n",
      "/tmp/ipykernel_75194/813017819.py:20: FutureWarning: Setting an item of incompatible dtype is deprecated and will raise an error in a future version of pandas. Value 'None' has dtype incompatible with float64, please explicitly cast to a compatible dtype first.\n",
      "  test_prep[test_prep[\"Working Professional or Student\"] != \"Student\"] = 'None'\n",
      "/tmp/ipykernel_75194/813017819.py:20: FutureWarning: Setting an item of incompatible dtype is deprecated and will raise an error in a future version of pandas. Value 'None' has dtype incompatible with float64, please explicitly cast to a compatible dtype first.\n",
      "  test_prep[test_prep[\"Working Professional or Student\"] != \"Student\"] = 'None'\n",
      "/tmp/ipykernel_75194/813017819.py:20: FutureWarning: Setting an item of incompatible dtype is deprecated and will raise an error in a future version of pandas. Value 'None' has dtype incompatible with float64, please explicitly cast to a compatible dtype first.\n",
      "  test_prep[test_prep[\"Working Professional or Student\"] != \"Student\"] = 'None'\n",
      "/tmp/ipykernel_75194/813017819.py:20: FutureWarning: Setting an item of incompatible dtype is deprecated and will raise an error in a future version of pandas. Value 'None' has dtype incompatible with float64, please explicitly cast to a compatible dtype first.\n",
      "  test_prep[test_prep[\"Working Professional or Student\"] != \"Student\"] = 'None'\n",
      "/tmp/ipykernel_75194/813017819.py:20: FutureWarning: Setting an item of incompatible dtype is deprecated and will raise an error in a future version of pandas. Value 'None' has dtype incompatible with float64, please explicitly cast to a compatible dtype first.\n",
      "  test_prep[test_prep[\"Working Professional or Student\"] != \"Student\"] = 'None'\n",
      "/tmp/ipykernel_75194/813017819.py:20: FutureWarning: Setting an item of incompatible dtype is deprecated and will raise an error in a future version of pandas. Value 'None' has dtype incompatible with float64, please explicitly cast to a compatible dtype first.\n",
      "  test_prep[test_prep[\"Working Professional or Student\"] != \"Student\"] = 'None'\n"
     ]
    }
   ],
   "source": [
    "train_prep[\"CGPA\"] = pd.cut(\n",
    "    train_prep[\"CGPA\"],\n",
    "    bins=3,\n",
    "    labels=[\"Low\", \"Medium\", \"High\"],\n",
    "    duplicates=\"drop\",\n",
    ")\n",
    "test_prep[\"CGPA\"] = pd.cut(\n",
    "    test_prep[\"CGPA\"],\n",
    "    bins=3,\n",
    "    labels=[\"Low\", \"Medium\", \"High\"],\n",
    "    duplicates=\"drop\",\n",
    ")\n",
    "\n",
    "train_prep[\"CGPA\"] = train_prep[\"CGPA\"].astype(\"category\")\n",
    "test_prep[\"CGPA\"] = test_prep[\"CGPA\"].astype(\"category\")\n",
    "# Add category 'None' to 'Working Professional or Student' column\n",
    "train_prep['CGPA'] = train_prep['CGPA'].cat.add_categories('None')\n",
    "test_prep['CGPA'] = test_prep['CGPA'].cat.add_categories('None')\n",
    "\n",
    "train_prep[train_prep[\"Working Professional or Student\"] != \"Student\"] = 'None'\n",
    "test_prep[test_prep[\"Working Professional or Student\"] != \"Student\"] = 'None'\n",
    "\n",
    "# Move CGPA from quantized_columns to categorical_columns\n",
    "categorical_columns.append(\"CGPA\")\n",
    "quantized_columns.remove(\"CGPA\")"
   ]
  },
  {
   "cell_type": "markdown",
   "metadata": {},
   "source": [
    "### [<span style=\"color:blue\">New Feature</span>] Pressure:  \n",
    "\n",
    "**Description**: Addition of columns *'Academic Pressure'* and *'Work Pressure'*.  \n",
    "**Assumption**: Either *'Academic Pressure'* or *'Work Pressure'* can be set.  \n",
    "**Feature Range**: [0-5]\n"
   ]
  },
  {
   "cell_type": "code",
   "execution_count": 155,
   "metadata": {},
   "outputs": [
    {
     "ename": "TypeError",
     "evalue": "'>=' not supported between instances of 'str' and 'int'",
     "output_type": "error",
     "traceback": [
      "\u001b[0;31m---------------------------------------------------------------------------\u001b[0m",
      "\u001b[0;31mTypeError\u001b[0m                                 Traceback (most recent call last)",
      "Cell \u001b[0;32mIn[155], line 3\u001b[0m\n\u001b[1;32m      1\u001b[0m train_prep[\u001b[38;5;124m\"\u001b[39m\u001b[38;5;124mPressure\u001b[39m\u001b[38;5;124m\"\u001b[39m] \u001b[38;5;241m=\u001b[39m \u001b[43m(\u001b[49m\n\u001b[1;32m      2\u001b[0m \u001b[43m    \u001b[49m\u001b[43mtrain_prep\u001b[49m\u001b[43m[\u001b[49m\u001b[38;5;124;43m\"\u001b[39;49m\u001b[38;5;124;43mAcademic Pressure\u001b[39;49m\u001b[38;5;124;43m\"\u001b[39;49m\u001b[43m]\u001b[49m\u001b[43m \u001b[49m\u001b[38;5;241;43m+\u001b[39;49m\u001b[43m \u001b[49m\u001b[43mtrain_prep\u001b[49m\u001b[43m[\u001b[49m\u001b[38;5;124;43m\"\u001b[39;49m\u001b[38;5;124;43mWork Pressure\u001b[39;49m\u001b[38;5;124;43m\"\u001b[39;49m\u001b[43m]\u001b[49m\n\u001b[0;32m----> 3\u001b[0m \u001b[43m)\u001b[49m\u001b[38;5;241;43m.\u001b[39;49m\u001b[43mclip\u001b[49m\u001b[43m(\u001b[49m\u001b[38;5;241;43m0\u001b[39;49m\u001b[43m,\u001b[49m\u001b[43m \u001b[49m\u001b[38;5;241;43m5\u001b[39;49m\u001b[43m)\u001b[49m\n\u001b[1;32m      5\u001b[0m test_prep[\u001b[38;5;124m\"\u001b[39m\u001b[38;5;124mPressure\u001b[39m\u001b[38;5;124m\"\u001b[39m] \u001b[38;5;241m=\u001b[39m (\n\u001b[1;32m      6\u001b[0m     test_prep[\u001b[38;5;124m\"\u001b[39m\u001b[38;5;124mAcademic Pressure\u001b[39m\u001b[38;5;124m\"\u001b[39m] \u001b[38;5;241m+\u001b[39m test_prep[\u001b[38;5;124m\"\u001b[39m\u001b[38;5;124mWork Pressure\u001b[39m\u001b[38;5;124m\"\u001b[39m]\n\u001b[1;32m      7\u001b[0m )\u001b[38;5;241m.\u001b[39mclip(\u001b[38;5;241m0\u001b[39m, \u001b[38;5;241m5\u001b[39m)\n\u001b[1;32m      9\u001b[0m \u001b[38;5;66;03m# Add new feature 'Pressure' to numerical columns\u001b[39;00m\n",
      "File \u001b[0;32m~/.cache/pypoetry/virtualenvs/kc-mental-health2024-rZDp7e7E-py3.10/lib/python3.10/site-packages/pandas/core/generic.py:9098\u001b[0m, in \u001b[0;36mNDFrame.clip\u001b[0;34m(self, lower, upper, axis, inplace, **kwargs)\u001b[0m\n\u001b[1;32m   9096\u001b[0m \u001b[38;5;66;03m# fast-path for scalars\u001b[39;00m\n\u001b[1;32m   9097\u001b[0m \u001b[38;5;28;01mif\u001b[39;00m (lower \u001b[38;5;129;01mis\u001b[39;00m \u001b[38;5;28;01mNone\u001b[39;00m \u001b[38;5;129;01mor\u001b[39;00m is_number(lower)) \u001b[38;5;129;01mand\u001b[39;00m (upper \u001b[38;5;129;01mis\u001b[39;00m \u001b[38;5;28;01mNone\u001b[39;00m \u001b[38;5;129;01mor\u001b[39;00m is_number(upper)):\n\u001b[0;32m-> 9098\u001b[0m     \u001b[38;5;28;01mreturn\u001b[39;00m \u001b[38;5;28;43mself\u001b[39;49m\u001b[38;5;241;43m.\u001b[39;49m\u001b[43m_clip_with_scalar\u001b[49m\u001b[43m(\u001b[49m\u001b[43mlower\u001b[49m\u001b[43m,\u001b[49m\u001b[43m \u001b[49m\u001b[43mupper\u001b[49m\u001b[43m,\u001b[49m\u001b[43m \u001b[49m\u001b[43minplace\u001b[49m\u001b[38;5;241;43m=\u001b[39;49m\u001b[43minplace\u001b[49m\u001b[43m)\u001b[49m\n\u001b[1;32m   9100\u001b[0m result \u001b[38;5;241m=\u001b[39m \u001b[38;5;28mself\u001b[39m\n\u001b[1;32m   9101\u001b[0m \u001b[38;5;28;01mif\u001b[39;00m lower \u001b[38;5;129;01mis\u001b[39;00m \u001b[38;5;129;01mnot\u001b[39;00m \u001b[38;5;28;01mNone\u001b[39;00m:\n",
      "File \u001b[0;32m~/.cache/pypoetry/virtualenvs/kc-mental-health2024-rZDp7e7E-py3.10/lib/python3.10/site-packages/pandas/core/generic.py:8838\u001b[0m, in \u001b[0;36mNDFrame._clip_with_scalar\u001b[0;34m(self, lower, upper, inplace)\u001b[0m\n\u001b[1;32m   8835\u001b[0m mask \u001b[38;5;241m=\u001b[39m \u001b[38;5;28mself\u001b[39m\u001b[38;5;241m.\u001b[39misna()\n\u001b[1;32m   8837\u001b[0m \u001b[38;5;28;01mif\u001b[39;00m lower \u001b[38;5;129;01mis\u001b[39;00m \u001b[38;5;129;01mnot\u001b[39;00m \u001b[38;5;28;01mNone\u001b[39;00m:\n\u001b[0;32m-> 8838\u001b[0m     cond \u001b[38;5;241m=\u001b[39m mask \u001b[38;5;241m|\u001b[39m (\u001b[38;5;28;43mself\u001b[39;49m\u001b[43m \u001b[49m\u001b[38;5;241;43m>\u001b[39;49m\u001b[38;5;241;43m=\u001b[39;49m\u001b[43m \u001b[49m\u001b[43mlower\u001b[49m)\n\u001b[1;32m   8839\u001b[0m     result \u001b[38;5;241m=\u001b[39m result\u001b[38;5;241m.\u001b[39mwhere(\n\u001b[1;32m   8840\u001b[0m         cond, lower, inplace\u001b[38;5;241m=\u001b[39minplace\n\u001b[1;32m   8841\u001b[0m     )  \u001b[38;5;66;03m# type: ignore[assignment]\u001b[39;00m\n\u001b[1;32m   8842\u001b[0m \u001b[38;5;28;01mif\u001b[39;00m upper \u001b[38;5;129;01mis\u001b[39;00m \u001b[38;5;129;01mnot\u001b[39;00m \u001b[38;5;28;01mNone\u001b[39;00m:\n",
      "File \u001b[0;32m~/.cache/pypoetry/virtualenvs/kc-mental-health2024-rZDp7e7E-py3.10/lib/python3.10/site-packages/pandas/core/ops/common.py:76\u001b[0m, in \u001b[0;36m_unpack_zerodim_and_defer.<locals>.new_method\u001b[0;34m(self, other)\u001b[0m\n\u001b[1;32m     72\u001b[0m             \u001b[38;5;28;01mreturn\u001b[39;00m \u001b[38;5;28mNotImplemented\u001b[39m\n\u001b[1;32m     74\u001b[0m other \u001b[38;5;241m=\u001b[39m item_from_zerodim(other)\n\u001b[0;32m---> 76\u001b[0m \u001b[38;5;28;01mreturn\u001b[39;00m \u001b[43mmethod\u001b[49m\u001b[43m(\u001b[49m\u001b[38;5;28;43mself\u001b[39;49m\u001b[43m,\u001b[49m\u001b[43m \u001b[49m\u001b[43mother\u001b[49m\u001b[43m)\u001b[49m\n",
      "File \u001b[0;32m~/.cache/pypoetry/virtualenvs/kc-mental-health2024-rZDp7e7E-py3.10/lib/python3.10/site-packages/pandas/core/arraylike.py:60\u001b[0m, in \u001b[0;36mOpsMixin.__ge__\u001b[0;34m(self, other)\u001b[0m\n\u001b[1;32m     58\u001b[0m \u001b[38;5;129m@unpack_zerodim_and_defer\u001b[39m(\u001b[38;5;124m\"\u001b[39m\u001b[38;5;124m__ge__\u001b[39m\u001b[38;5;124m\"\u001b[39m)\n\u001b[1;32m     59\u001b[0m \u001b[38;5;28;01mdef\u001b[39;00m \u001b[38;5;21m__ge__\u001b[39m(\u001b[38;5;28mself\u001b[39m, other):\n\u001b[0;32m---> 60\u001b[0m     \u001b[38;5;28;01mreturn\u001b[39;00m \u001b[38;5;28;43mself\u001b[39;49m\u001b[38;5;241;43m.\u001b[39;49m\u001b[43m_cmp_method\u001b[49m\u001b[43m(\u001b[49m\u001b[43mother\u001b[49m\u001b[43m,\u001b[49m\u001b[43m \u001b[49m\u001b[43moperator\u001b[49m\u001b[38;5;241;43m.\u001b[39;49m\u001b[43mge\u001b[49m\u001b[43m)\u001b[49m\n",
      "File \u001b[0;32m~/.cache/pypoetry/virtualenvs/kc-mental-health2024-rZDp7e7E-py3.10/lib/python3.10/site-packages/pandas/core/series.py:6119\u001b[0m, in \u001b[0;36mSeries._cmp_method\u001b[0;34m(self, other, op)\u001b[0m\n\u001b[1;32m   6116\u001b[0m lvalues \u001b[38;5;241m=\u001b[39m \u001b[38;5;28mself\u001b[39m\u001b[38;5;241m.\u001b[39m_values\n\u001b[1;32m   6117\u001b[0m rvalues \u001b[38;5;241m=\u001b[39m extract_array(other, extract_numpy\u001b[38;5;241m=\u001b[39m\u001b[38;5;28;01mTrue\u001b[39;00m, extract_range\u001b[38;5;241m=\u001b[39m\u001b[38;5;28;01mTrue\u001b[39;00m)\n\u001b[0;32m-> 6119\u001b[0m res_values \u001b[38;5;241m=\u001b[39m \u001b[43mops\u001b[49m\u001b[38;5;241;43m.\u001b[39;49m\u001b[43mcomparison_op\u001b[49m\u001b[43m(\u001b[49m\u001b[43mlvalues\u001b[49m\u001b[43m,\u001b[49m\u001b[43m \u001b[49m\u001b[43mrvalues\u001b[49m\u001b[43m,\u001b[49m\u001b[43m \u001b[49m\u001b[43mop\u001b[49m\u001b[43m)\u001b[49m\n\u001b[1;32m   6121\u001b[0m \u001b[38;5;28;01mreturn\u001b[39;00m \u001b[38;5;28mself\u001b[39m\u001b[38;5;241m.\u001b[39m_construct_result(res_values, name\u001b[38;5;241m=\u001b[39mres_name)\n",
      "File \u001b[0;32m~/.cache/pypoetry/virtualenvs/kc-mental-health2024-rZDp7e7E-py3.10/lib/python3.10/site-packages/pandas/core/ops/array_ops.py:344\u001b[0m, in \u001b[0;36mcomparison_op\u001b[0;34m(left, right, op)\u001b[0m\n\u001b[1;32m    341\u001b[0m     \u001b[38;5;28;01mreturn\u001b[39;00m invalid_comparison(lvalues, rvalues, op)\n\u001b[1;32m    343\u001b[0m \u001b[38;5;28;01melif\u001b[39;00m lvalues\u001b[38;5;241m.\u001b[39mdtype \u001b[38;5;241m==\u001b[39m \u001b[38;5;28mobject\u001b[39m \u001b[38;5;129;01mor\u001b[39;00m \u001b[38;5;28misinstance\u001b[39m(rvalues, \u001b[38;5;28mstr\u001b[39m):\n\u001b[0;32m--> 344\u001b[0m     res_values \u001b[38;5;241m=\u001b[39m \u001b[43mcomp_method_OBJECT_ARRAY\u001b[49m\u001b[43m(\u001b[49m\u001b[43mop\u001b[49m\u001b[43m,\u001b[49m\u001b[43m \u001b[49m\u001b[43mlvalues\u001b[49m\u001b[43m,\u001b[49m\u001b[43m \u001b[49m\u001b[43mrvalues\u001b[49m\u001b[43m)\u001b[49m\n\u001b[1;32m    346\u001b[0m \u001b[38;5;28;01melse\u001b[39;00m:\n\u001b[1;32m    347\u001b[0m     res_values \u001b[38;5;241m=\u001b[39m _na_arithmetic_op(lvalues, rvalues, op, is_cmp\u001b[38;5;241m=\u001b[39m\u001b[38;5;28;01mTrue\u001b[39;00m)\n",
      "File \u001b[0;32m~/.cache/pypoetry/virtualenvs/kc-mental-health2024-rZDp7e7E-py3.10/lib/python3.10/site-packages/pandas/core/ops/array_ops.py:129\u001b[0m, in \u001b[0;36mcomp_method_OBJECT_ARRAY\u001b[0;34m(op, x, y)\u001b[0m\n\u001b[1;32m    127\u001b[0m     result \u001b[38;5;241m=\u001b[39m libops\u001b[38;5;241m.\u001b[39mvec_compare(x\u001b[38;5;241m.\u001b[39mravel(), y\u001b[38;5;241m.\u001b[39mravel(), op)\n\u001b[1;32m    128\u001b[0m \u001b[38;5;28;01melse\u001b[39;00m:\n\u001b[0;32m--> 129\u001b[0m     result \u001b[38;5;241m=\u001b[39m \u001b[43mlibops\u001b[49m\u001b[38;5;241;43m.\u001b[39;49m\u001b[43mscalar_compare\u001b[49m\u001b[43m(\u001b[49m\u001b[43mx\u001b[49m\u001b[38;5;241;43m.\u001b[39;49m\u001b[43mravel\u001b[49m\u001b[43m(\u001b[49m\u001b[43m)\u001b[49m\u001b[43m,\u001b[49m\u001b[43m \u001b[49m\u001b[43my\u001b[49m\u001b[43m,\u001b[49m\u001b[43m \u001b[49m\u001b[43mop\u001b[49m\u001b[43m)\u001b[49m\n\u001b[1;32m    130\u001b[0m \u001b[38;5;28;01mreturn\u001b[39;00m result\u001b[38;5;241m.\u001b[39mreshape(x\u001b[38;5;241m.\u001b[39mshape)\n",
      "File \u001b[0;32mops.pyx:107\u001b[0m, in \u001b[0;36mpandas._libs.ops.scalar_compare\u001b[0;34m()\u001b[0m\n",
      "\u001b[0;31mTypeError\u001b[0m: '>=' not supported between instances of 'str' and 'int'"
     ]
    }
   ],
   "source": [
    "train_prep[\"Pressure\"] = (\n",
    "    train_prep[\"Academic Pressure\"] + train_prep[\"Work Pressure\"]\n",
    ").clip(0, 5)\n",
    "\n",
    "test_prep[\"Pressure\"] = (\n",
    "    test_prep[\"Academic Pressure\"] + test_prep[\"Work Pressure\"]\n",
    ").clip(0, 5)\n",
    "\n",
    "# Add new feature 'Pressure' to numerical columns\n",
    "numerical_columns.append(\"Pressure\")"
   ]
  },
  {
   "cell_type": "markdown",
   "metadata": {},
   "source": [
    "### [<span style=\"color:blue\">New Feature</span>] Satisfaction:  \n",
    "\n",
    "**Description**: Addition of columns *'Study Satisfaction'* and *'Job Satisfaction'*.  \n",
    "**Assumption**: Either *'Study Satisfaction'* or *'Job Satisfaction'* can be set.  \n",
    "**Feature Range**: [0-5]\n"
   ]
  },
  {
   "cell_type": "code",
   "execution_count": null,
   "metadata": {},
   "outputs": [],
   "source": [
    "train_prep[\"Satisfaction\"] = (\n",
    "    train_prep[\"Study Satisfaction\"] + train_prep[\"Job Satisfaction\"]\n",
    ").clip(0, 5)\n",
    "\n",
    "test_prep[\"Satisfaction\"] = (\n",
    "    test_prep[\"Study Satisfaction\"] + test_prep[\"Job Satisfaction\"]\n",
    ").clip(0, 5)\n",
    "\n",
    "# Add new feature 'Satisfaction' to numerical columns\n",
    "numerical_columns.append(\"Satisfaction\")"
   ]
  },
  {
   "cell_type": "markdown",
   "metadata": {},
   "source": [
    "### [<span style=\"color:blue\">New Feature</span>] Pressure_Satisfaction:  \n",
    "\n",
    "**Description**: Division of columns *'Pressure'* and *'Satisfaction'*.  \n",
    "**Assumption**: Having high pressure and high satisfaction should reduce overall 'stress'. However having high stress and low satisfaction is a bad combination.\n"
   ]
  },
  {
   "cell_type": "code",
   "execution_count": null,
   "metadata": {},
   "outputs": [],
   "source": [
    "train_prep[\"Pressure_Satisfaction\"] = (\n",
    "    train_prep[\"Pressure\"] / train_prep[\"Satisfaction\"]\n",
    ")\n",
    "test_prep[\"Pressure_Satisfaction\"] = test_prep[\"Pressure\"] / test_prep[\"Satisfaction\"]\n",
    "# Add new feature 'Pressure_Satisfaction' to numerical columns\n",
    "numerical_columns.append(\"Pressure_Satisfaction\")"
   ]
  },
  {
   "cell_type": "markdown",
   "metadata": {},
   "source": [
    "### [<span style=\"color:blue\">New Feature</span>] WorkHours_Pressure:  \n",
    "[<span style=\"color:red\">ToDo</span>] Need to find a good way to combine the features. And what is our assumption?\n",
    "\n",
    "**Description**: Multiplication of columns *'Work/Study Hours'* and *'Pressure'*.  \n",
    "**Assumption**: ?\n"
   ]
  },
  {
   "cell_type": "code",
   "execution_count": null,
   "metadata": {},
   "outputs": [],
   "source": [
    "train_prep[\"WorkHours_Pressure\"] = (\n",
    "    train_prep[\"Work/Study Hours\"] * train_prep[\"Pressure\"]\n",
    ")\n",
    "test_prep[\"WorkHours_Pressure\"] = test_prep[\"Work/Study Hours\"] * test_prep[\"Pressure\"]\n",
    "# Add new feature 'WorkHours_Pressure' to numerical columns\n",
    "numerical_columns.append(\"WorkHours_Pressure\")"
   ]
  },
  {
   "cell_type": "markdown",
   "metadata": {},
   "source": [
    "### [<span style=\"color:blue\">New Feature</span>] Diet_Sleep:  \n",
    "[<span style=\"color:red\">ToDo</span>] Need to find a good way to combine the features.  \n",
    "\n",
    "**Description**: Concatination of columns *'Dietary Habits'* and *'Sleep Duration'*.  \n",
    "**Assumption**: Sleep and diet are essential parameters of an healthy lifestyle.\n"
   ]
  },
  {
   "cell_type": "code",
   "execution_count": null,
   "metadata": {},
   "outputs": [],
   "source": [
    "train_prep[\"Diet_Sleep\"] = (\n",
    "    train_prep[\"Dietary Habits\"].astype(str)\n",
    "    + \"_\"\n",
    "    + train_prep[\"Sleep Duration\"].astype(str)\n",
    ")\n",
    "test_prep[\"Diet_Sleep\"] = (\n",
    "    test_prep[\"Dietary Habits\"].astype(str)\n",
    "    + \"_\"\n",
    "    + test_prep[\"Sleep Duration\"].astype(str)\n",
    ")\n",
    "# Add new feature 'Diet_Sleep' to categorical columns\n",
    "categorical_columns.append(\"Diet_Sleep\")"
   ]
  },
  {
   "cell_type": "markdown",
   "metadata": {},
   "source": [
    "### [<span style=\"color:blue\">New Feature</span>] FinancialStress_WorkHours:  \n",
    "[<span style=\"color:red\">ToDo</span>] Need to find a good way to combine the features. And what is our assumption?\n",
    "\n",
    "**Description**: Concatination of columns *'Financial Stress'* and *'Work/Study Hours'*.  \n",
    "**Assumption**: ?\n"
   ]
  },
  {
   "cell_type": "code",
   "execution_count": null,
   "metadata": {},
   "outputs": [],
   "source": [
    "train_prep[\"FinancialStress_WorkHours\"] = (\n",
    "    train_prep[\"Financial Stress\"].astype(int) * train_prep[\"Work/Study Hours\"]\n",
    ")\n",
    "test_prep[\"FinancialStress_WorkHours\"] = (\n",
    "    test_prep[\"Financial Stress\"].astype(int) * test_prep[\"Work/Study Hours\"]\n",
    ")\n",
    "# Add new feature 'FinancialStress_WorkHours' to numerical columns\n",
    "numerical_columns.append(\"FinancialStress_WorkHours\")"
   ]
  },
  {
   "cell_type": "markdown",
   "metadata": {},
   "source": [
    "### [<span style=\"color:blue\">New Feature</span>] WorkHours_Satisfaction:  \n",
    "[<span style=\"color:red\">ToDo</span>] Is this assumption correct?\n",
    "\n",
    "**Description**: Division of columns *'Work/Study Hours'* and *'Satisfaction'*.  \n",
    "**Assumption**: Working long with high satisfaction should be less problematic then working long with low satisfaction.\n"
   ]
  },
  {
   "cell_type": "code",
   "execution_count": null,
   "metadata": {},
   "outputs": [],
   "source": [
    "train_prep[\"WorkHours_Satisfaction\"] = (\n",
    "    train_prep[\"Work/Study Hours\"] / train_prep[\"Satisfaction\"]\n",
    ")\n",
    "test_prep[\"WorkHours_Satisfaction\"] = (\n",
    "    test_prep[\"Work/Study Hours\"] / test_prep[\"Satisfaction\"]\n",
    ")\n",
    "# Add new feature 'WorkHours_Satisfaction' to numerical columns\n",
    "numerical_columns.append(\"WorkHours_Satisfaction\")"
   ]
  },
  {
   "cell_type": "markdown",
   "metadata": {},
   "source": [
    "# Post Process\n",
    "Encode columns and ensure correct datatypes"
   ]
  },
  {
   "cell_type": "markdown",
   "metadata": {},
   "source": [
    "Encode categorical features using label encoder."
   ]
  },
  {
   "cell_type": "code",
   "execution_count": null,
   "metadata": {},
   "outputs": [],
   "source": [
    "for col in categorical_columns:\n",
    "    le = LabelEncoder()\n",
    "    complete_data = pd.concat([train_prep[col], test_prep[col]], axis=0)\n",
    "    le.fit(complete_data)\n",
    "    train_prep[col] = le.transform(train_prep[col])\n",
    "    test_prep[col] = le.transform(test_prep[col])\n",
    "    train_prep[col] = train_prep[col].astype('category')\n",
    "    test_prep[col] = test_prep[col].astype('category')"
   ]
  },
  {
   "cell_type": "markdown",
   "metadata": {},
   "source": [
    "# Save data\n",
    "Save processed data to a file."
   ]
  },
  {
   "cell_type": "code",
   "execution_count": null,
   "metadata": {},
   "outputs": [],
   "source": [
    "pd.to_pickle(train_prep, data_dir + 'train_prep.pkl')\n",
    "pd.to_pickle(test_prep, data_dir + 'test_prep.pkl')\n",
    "pd.to_pickle(categorical_columns, data_dir + 'categorical_columns.pkl')\n",
    "pd.to_pickle(numerical_columns, data_dir + 'numerical_columns.pkl')\n",
    "\n",
    "\n",
    "print(\"Preprocessing completed successfully\")"
   ]
  }
 ],
 "metadata": {
  "kernelspec": {
   "display_name": "kc-mental-health2024-rZDp7e7E-py3.10",
   "language": "python",
   "name": "python3"
  },
  "language_info": {
   "codemirror_mode": {
    "name": "ipython",
    "version": 3
   },
   "file_extension": ".py",
   "mimetype": "text/x-python",
   "name": "python",
   "nbconvert_exporter": "python",
   "pygments_lexer": "ipython3",
   "version": "3.10.12"
  }
 },
 "nbformat": 4,
 "nbformat_minor": 2
}
