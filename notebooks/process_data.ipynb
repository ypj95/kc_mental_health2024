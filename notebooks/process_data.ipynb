{
 "cells": [
  {
   "cell_type": "markdown",
   "metadata": {},
   "source": [
    "# Import Required Libraries\n",
    "Import the necessary libraries."
   ]
  },
  {
   "cell_type": "code",
   "execution_count": 31,
   "metadata": {},
   "outputs": [],
   "source": [
    "# Import necessary libraries\n",
    "import pandas as pd\n",
    "from sklearn.preprocessing import LabelEncoder"
   ]
  },
  {
   "cell_type": "markdown",
   "metadata": {},
   "source": [
    "# Load Data\n",
    "Load the train and test data from the data directory"
   ]
  },
  {
   "cell_type": "code",
   "execution_count": 32,
   "metadata": {},
   "outputs": [],
   "source": [
    "data_dir = '../data/'\n",
    "train = pd.read_csv(data_dir + 'train.csv')\n",
    "test = pd.read_csv(data_dir + 'test.csv')"
   ]
  },
  {
   "cell_type": "markdown",
   "metadata": {},
   "source": [
    "# Define Columns\n",
    "Define the numerical, quantized, text, and categorical columns."
   ]
  },
  {
   "cell_type": "code",
   "execution_count": 33,
   "metadata": {},
   "outputs": [],
   "source": [
    "# Define numerical columns\n",
    "numerical_columns = [\"Age\", \"Work/Study Hours\"]\n",
    "\n",
    "# Define quantized columns\n",
    "quantized_columns = [\"CGPA\"]\n",
    "\n",
    "# Define text columns\n",
    "text_columns = [\n",
    "    \"Name\",\n",
    "    \"City\",\n",
    "    \"Profession\",\n",
    "    \"Sleep Duration\",\n",
    "    \"Degree\",\n",
    "    \"Dietary Habits\",\n",
    "]\n",
    "\n",
    "# Define categorical columns and include text columns\n",
    "categorical_columns = [\n",
    "    \"Gender\",\n",
    "    \"Working Professional or Student\",\n",
    "    \"Have you ever had suicidal thoughts ?\",\n",
    "    \"Financial Stress\",\n",
    "    \"Family History of Mental Illness\",\n",
    "    \"Academic Pressure\",\n",
    "    \"Work Pressure\",\n",
    "    \"Study Satisfaction\",\n",
    "    \"Job Satisfaction\",\n",
    "] + text_columns"
   ]
  },
  {
   "cell_type": "markdown",
   "metadata": {},
   "source": [
    "# Clean Data\n",
    "Drop duplicate rows, fill nan's"
   ]
  },
  {
   "cell_type": "code",
   "execution_count": 34,
   "metadata": {},
   "outputs": [],
   "source": [
    "# Create copies of the train and test DataFrames for preprocessing\n",
    "train_prep = train.copy()\n",
    "test_prep = test.copy()"
   ]
  },
  {
   "cell_type": "markdown",
   "metadata": {},
   "source": [
    "Remove duplicates"
   ]
  },
  {
   "cell_type": "code",
   "execution_count": 35,
   "metadata": {},
   "outputs": [],
   "source": [
    "train = train.drop_duplicates()\n",
    "test = test.drop_duplicates()"
   ]
  },
  {
   "cell_type": "markdown",
   "metadata": {},
   "source": [
    "Drop unnescecary columns"
   ]
  },
  {
   "cell_type": "code",
   "execution_count": 36,
   "metadata": {},
   "outputs": [],
   "source": [
    "# Drop 'id' column if it exists\n",
    "if \"id\" in train_prep.columns:\n",
    "    train_prep = train_prep.drop(columns=\"id\")\n",
    "if \"id\" in test_prep.columns:\n",
    "    test_prep = test_prep.drop(columns=\"id\")"
   ]
  },
  {
   "cell_type": "markdown",
   "metadata": {},
   "source": [
    "Ensure that either Job Satisfaction or Study Satisfaction is filled."
   ]
  },
  {
   "cell_type": "code",
   "execution_count": 37,
   "metadata": {},
   "outputs": [],
   "source": [
    "# If at least one of them is filled, fill the other with zero.\n",
    "# If both are filled, do nothing.\n",
    "# If none are filled, fill both with zero.\n",
    "train_prep['Job Satisfaction'] = train_prep['Job Satisfaction'].fillna(0)\n",
    "train_prep['Study Satisfaction'] = train_prep['Study Satisfaction'].fillna(0)\n",
    "test_prep['Job Satisfaction'] = test_prep['Job Satisfaction'].fillna(0)\n",
    "test_prep['Study Satisfaction'] = test_prep['Study Satisfaction'].fillna(0)"
   ]
  },
  {
   "cell_type": "markdown",
   "metadata": {},
   "source": [
    "Ensure that either Job Satisfaction or Study Satisfaction is filled."
   ]
  },
  {
   "cell_type": "code",
   "execution_count": 38,
   "metadata": {},
   "outputs": [],
   "source": [
    "# If at least one of them is filled, fill the other with zero.\n",
    "# If both are filled, do nothing.\n",
    "# If none are filled, fill both with zero.\n",
    "train_prep['Academic Pressure'] = train_prep['Academic Pressure'].fillna(0)\n",
    "train_prep['Work Pressure'] = train_prep['Work Pressure'].fillna(0)\n",
    "test_prep['Academic Pressure'] = test_prep['Academic Pressure'].fillna(0)\n",
    "test_prep['Work Pressure'] = test_prep['Work Pressure'].fillna(0)"
   ]
  },
  {
   "cell_type": "markdown",
   "metadata": {},
   "source": [
    "Fill missing values in categorical columns with the mode or 'missing' if the mode is not available."
   ]
  },
  {
   "cell_type": "code",
   "execution_count": 39,
   "metadata": {},
   "outputs": [],
   "source": [
    "for col in categorical_columns:\n",
    "    # Fill missing values with mode or 'missing' if mode is not available\n",
    "    fill_value = train_prep[col].mode()[0] if not train_prep[col].mode().empty else \"missing\"\n",
    "    train_prep[col] = train_prep[col].fillna(fill_value)\n",
    "    test_prep[col] = test_prep[col].fillna(fill_value)\n"
   ]
  },
  {
   "cell_type": "markdown",
   "metadata": {},
   "source": [
    "Fill missing values in numerical columns with the median."
   ]
  },
  {
   "cell_type": "code",
   "execution_count": 40,
   "metadata": {},
   "outputs": [],
   "source": [
    "for col in numerical_columns + quantized_columns:\n",
    "    # Fill missing values with median\n",
    "    median_value = train_prep[col].median()\n",
    "    train_prep[col] = train_prep[col].fillna(median_value)\n",
    "    test_prep[col] = test_prep[col].fillna(median_value)"
   ]
  },
  {
   "cell_type": "markdown",
   "metadata": {},
   "source": [
    "Check that there are no missing values."
   ]
  },
  {
   "cell_type": "code",
   "execution_count": 41,
   "metadata": {},
   "outputs": [
    {
     "name": "stdout",
     "output_type": "stream",
     "text": [
      "Cleaning completed successfully\n"
     ]
    }
   ],
   "source": [
    "if train_prep.isnull().values.any():\n",
    "    print(\"Missing values in train data\")\n",
    "    print(train_prep.isnull().sum())\n",
    "    assert False\n",
    "\n",
    "if test_prep.isnull().values.any():\n",
    "    print(\"Missing values in test data\")\n",
    "    print(test_prep.isnull().sum())\n",
    "    assert False\n",
    "\n",
    "print(\"Cleaning completed successfully\")"
   ]
  },
  {
   "cell_type": "markdown",
   "metadata": {},
   "source": [
    "# Modify Features\n",
    "Create and modify features"
   ]
  },
  {
   "cell_type": "markdown",
   "metadata": {},
   "source": [
    "[<span style=\"color:orange\">Original Feature</span>] Age:"
   ]
  },
  {
   "cell_type": "code",
   "execution_count": 42,
   "metadata": {},
   "outputs": [],
   "source": [
    "# Transform 'Age' to integer\n",
    "train_prep[\"Age\"] = train_prep[\"Age\"].astype(int)\n",
    "test_prep[\"Age\"] = test_prep[\"Age\"].astype(int)"
   ]
  },
  {
   "cell_type": "markdown",
   "metadata": {},
   "source": [
    "[<span style=\"color:orange\">Original Feature</span>] CGPA:  \n",
    "\n",
    "**Description**: Quantize CGPA into bins."
   ]
  },
  {
   "cell_type": "code",
   "execution_count": 43,
   "metadata": {},
   "outputs": [],
   "source": [
    "train_prep[\"CGPA\"] = pd.cut(\n",
    "    train_prep[\"CGPA\"],\n",
    "    bins=3,\n",
    "    labels=[\"Low\", \"Medium\", \"High\"],\n",
    "    duplicates=\"drop\",\n",
    ")\n",
    "test_prep[\"CGPA\"] = pd.cut(\n",
    "    test_prep[\"CGPA\"],\n",
    "    bins=3,\n",
    "    labels=[\"Low\", \"Medium\", \"High\"],\n",
    "    duplicates=\"drop\",\n",
    ")\n",
    "\n",
    "# Move CGPA from quantized_columns to categorical_columns\n",
    "categorical_columns.append(\"CGPA\")\n",
    "quantized_columns.remove(\"CGPA\")"
   ]
  },
  {
   "cell_type": "markdown",
   "metadata": {},
   "source": [
    "[<span style=\"color:blue\">New Feature</span>] Pressure:  \n",
    "\n",
    "**Description**: Addition of columns *'Academic Pressure'* and *'Work Pressure'*.  \n",
    "**Assumption**: Either *'Academic Pressure'* or *'Work Pressure'* can be set.  \n",
    "**Feature Range**: [0-5]\n"
   ]
  },
  {
   "cell_type": "code",
   "execution_count": 44,
   "metadata": {},
   "outputs": [],
   "source": [
    "train_prep[\"Pressure\"] = (\n",
    "    train_prep[\"Academic Pressure\"] + train_prep[\"Work Pressure\"]\n",
    ").clip(0, 5)\n",
    "\n",
    "test_prep[\"Pressure\"] = (\n",
    "    test_prep[\"Academic Pressure\"] + test_prep[\"Work Pressure\"]\n",
    ").clip(0, 5)\n",
    "\n",
    "# Add new feature 'Pressure' to numerical columns\n",
    "numerical_columns.append(\"Pressure\")"
   ]
  },
  {
   "cell_type": "markdown",
   "metadata": {},
   "source": [
    "[<span style=\"color:blue\">New Feature</span>] Satisfaction:  \n",
    "\n",
    "**Description**: Addition of columns *'Study Satisfaction'* and *'Job Satisfaction'*.  \n",
    "**Assumption**: Either *'Study Satisfaction'* or *'Job Satisfaction'* can be set.  \n",
    "**Feature Range**: [0-5]\n"
   ]
  },
  {
   "cell_type": "code",
   "execution_count": 45,
   "metadata": {},
   "outputs": [],
   "source": [
    "train_prep[\"Satisfaction\"] = (\n",
    "    train_prep[\"Study Satisfaction\"] + train_prep[\"Job Satisfaction\"]\n",
    ").clip(0, 5)\n",
    "\n",
    "test_prep[\"Satisfaction\"] = (\n",
    "    test_prep[\"Study Satisfaction\"] + test_prep[\"Job Satisfaction\"]\n",
    ").clip(0, 5)\n",
    "\n",
    "# Add new feature 'Satisfaction' to numerical columns\n",
    "numerical_columns.append(\"Satisfaction\")"
   ]
  },
  {
   "cell_type": "markdown",
   "metadata": {},
   "source": [
    "[<span style=\"color:blue\">New Feature</span>] Pressure_Satisfaction:  \n",
    "\n",
    "**Description**: Division of columns *'Pressure'* and *'Satisfaction'*.  \n",
    "**Assumption**: Having high pressure and high satisfaction should reduce overall 'stress'. However having high stress and low satisfaction is a bad combination.\n"
   ]
  },
  {
   "cell_type": "code",
   "execution_count": 46,
   "metadata": {},
   "outputs": [],
   "source": [
    "train_prep[\"Pressure_Satisfaction\"] = (\n",
    "    train_prep[\"Pressure\"] / train_prep[\"Satisfaction\"]\n",
    ")\n",
    "test_prep[\"Pressure_Satisfaction\"] = test_prep[\"Pressure\"] / test_prep[\"Satisfaction\"]\n",
    "# Add new feature 'Pressure_Satisfaction' to numerical columns\n",
    "numerical_columns.append(\"Pressure_Satisfaction\")"
   ]
  },
  {
   "cell_type": "markdown",
   "metadata": {},
   "source": [
    "[<span style=\"color:blue\">New Feature</span>] WorkHours_Pressure:  \n",
    "[<span style=\"color:red\">ToDo</span>] Need to find a good way to combine the features. And what is our assumption?\n",
    "\n",
    "**Description**: Multiplication of columns *'Work/Study Hours'* and *'Pressure'*.  \n",
    "**Assumption**: ?\n"
   ]
  },
  {
   "cell_type": "code",
   "execution_count": 47,
   "metadata": {},
   "outputs": [],
   "source": [
    "train_prep[\"WorkHours_Pressure\"] = (\n",
    "    train_prep[\"Work/Study Hours\"] * train_prep[\"Pressure\"]\n",
    ")\n",
    "test_prep[\"WorkHours_Pressure\"] = test_prep[\"Work/Study Hours\"] * test_prep[\"Pressure\"]\n",
    "# Add new feature 'WorkHours_Pressure' to numerical columns\n",
    "numerical_columns.append(\"WorkHours_Pressure\")"
   ]
  },
  {
   "cell_type": "markdown",
   "metadata": {},
   "source": [
    "[<span style=\"color:blue\">New Feature</span>] Diet_Sleep:  \n",
    "[<span style=\"color:red\">ToDo</span>] Need to find a good way to combine the features.  \n",
    "\n",
    "**Description**: Concatination of columns *'Dietary Habits'* and *'Sleep Duration'*.  \n",
    "**Assumption**: Sleep and diet are essential parameters of an healthy lifestyle.\n"
   ]
  },
  {
   "cell_type": "code",
   "execution_count": 48,
   "metadata": {},
   "outputs": [],
   "source": [
    "train_prep[\"Diet_Sleep\"] = (\n",
    "    train_prep[\"Dietary Habits\"].astype(str)\n",
    "    + \"_\"\n",
    "    + train_prep[\"Sleep Duration\"].astype(str)\n",
    ")\n",
    "test_prep[\"Diet_Sleep\"] = (\n",
    "    test_prep[\"Dietary Habits\"].astype(str)\n",
    "    + \"_\"\n",
    "    + test_prep[\"Sleep Duration\"].astype(str)\n",
    ")\n",
    "# Add new feature 'Diet_Sleep' to categorical columns\n",
    "categorical_columns.append(\"Diet_Sleep\")"
   ]
  },
  {
   "cell_type": "markdown",
   "metadata": {},
   "source": [
    "[<span style=\"color:blue\">New Feature</span>] FinancialStress_WorkHours:  \n",
    "[<span style=\"color:red\">ToDo</span>] Need to find a good way to combine the features. And what is our assumption?\n",
    "\n",
    "**Description**: Concatination of columns *'Financial Stress'* and *'Work/Study Hours'*.  \n",
    "**Assumption**: ?\n"
   ]
  },
  {
   "cell_type": "code",
   "execution_count": 49,
   "metadata": {},
   "outputs": [],
   "source": [
    "train_prep[\"FinancialStress_WorkHours\"] = (\n",
    "    train_prep[\"Financial Stress\"].astype(int) * train_prep[\"Work/Study Hours\"]\n",
    ")\n",
    "test_prep[\"FinancialStress_WorkHours\"] = (\n",
    "    test_prep[\"Financial Stress\"].astype(int) * test_prep[\"Work/Study Hours\"]\n",
    ")\n",
    "# Add new feature 'FinancialStress_WorkHours' to numerical columns\n",
    "numerical_columns.append(\"FinancialStress_WorkHours\")"
   ]
  },
  {
   "cell_type": "markdown",
   "metadata": {},
   "source": [
    "[<span style=\"color:blue\">New Feature</span>] WorkHours_Satisfaction:  \n",
    "[<span style=\"color:red\">ToDo</span>] Is this assumption correct?\n",
    "\n",
    "**Description**: Division of columns *'Work/Study Hours'* and *'Satisfaction'*.  \n",
    "**Assumption**: Working long with high satisfaction should be less problematic then working long with low satisfaction.\n"
   ]
  },
  {
   "cell_type": "code",
   "execution_count": 50,
   "metadata": {},
   "outputs": [],
   "source": [
    "train_prep[\"WorkHours_Satisfaction\"] = (\n",
    "    train_prep[\"Work/Study Hours\"] / train_prep[\"Satisfaction\"]\n",
    ")\n",
    "test_prep[\"WorkHours_Satisfaction\"] = (\n",
    "    test_prep[\"Work/Study Hours\"] / test_prep[\"Satisfaction\"]\n",
    ")\n",
    "# Add new feature 'WorkHours_Satisfaction' to numerical columns\n",
    "numerical_columns.append(\"WorkHours_Satisfaction\")"
   ]
  },
  {
   "cell_type": "markdown",
   "metadata": {},
   "source": [
    "# Post Process\n",
    "Encode columns and ensure correct datatypes"
   ]
  },
  {
   "cell_type": "markdown",
   "metadata": {},
   "source": [
    "Encode categorical features using label encoder."
   ]
  },
  {
   "cell_type": "code",
   "execution_count": 51,
   "metadata": {},
   "outputs": [],
   "source": [
    "for col in categorical_columns:\n",
    "    le = LabelEncoder()\n",
    "    complete_data = pd.concat([train_prep[col], test_prep[col]], axis=0)\n",
    "    le.fit(complete_data)\n",
    "    train_prep[col] = le.transform(train_prep[col])\n",
    "    test_prep[col] = le.transform(test_prep[col])\n",
    "    train_prep[col] = train_prep[col].astype('category')\n",
    "    test_prep[col] = test_prep[col].astype('category')"
   ]
  },
  {
   "cell_type": "markdown",
   "metadata": {},
   "source": [
    "# Save data\n",
    "Save processed data to a file."
   ]
  },
  {
   "cell_type": "code",
   "execution_count": 53,
   "metadata": {},
   "outputs": [
    {
     "name": "stdout",
     "output_type": "stream",
     "text": [
      "Preprocessing completed successfully\n"
     ]
    }
   ],
   "source": [
    "pd.to_pickle(train_prep, data_dir + 'train_prep.pkl')\n",
    "pd.to_pickle(test_prep, data_dir + 'test_prep.pkl')\n",
    "pd.to_pickle(categorical_columns, data_dir + 'categorical_columns.pkl')\n",
    "pd.to_pickle(numerical_columns, data_dir + 'numerical_columns.pkl')\n",
    "\n",
    "\n",
    "print(\"Preprocessing completed successfully\")"
   ]
  }
 ],
 "metadata": {
  "kernelspec": {
   "display_name": "kc-mental-health2024-rZDp7e7E-py3.10",
   "language": "python",
   "name": "python3"
  },
  "language_info": {
   "codemirror_mode": {
    "name": "ipython",
    "version": 3
   },
   "file_extension": ".py",
   "mimetype": "text/x-python",
   "name": "python",
   "nbconvert_exporter": "python",
   "pygments_lexer": "ipython3",
   "version": "3.10.12"
  }
 },
 "nbformat": 4,
 "nbformat_minor": 2
}
